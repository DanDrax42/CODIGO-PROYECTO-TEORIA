{
 "cells": [
  {
   "cell_type": "markdown",
   "metadata": {
    "cell_id": "3c5cd721267e41839c3d9543fd5d4fd3",
    "deepnote_cell_type": "text-cell-h1",
    "formattedRanges": []
   },
   "source": [
    "# Función Hankel esférica del segundo tipo"
   ]
  },
  {
   "cell_type": "code",
   "execution_count": 1,
   "metadata": {
    "cell_id": "9781138810fc4b58964a32006e462321",
    "deepnote_cell_type": "code",
    "execution_context_id": "da541422-f70c-41c5-825b-af145fdde8a9",
    "execution_millis": 378,
    "execution_start": 1730859686020,
    "source_hash": "ab15bfc8"
   },
   "outputs": [],
   "source": [
    "import numpy as np\n",
    "from scipy.special import spherical_jn, spherical_yn\n",
    "\n",
    "def hankel(n, ka):\n",
    "\n",
    "    j_n = spherical_jn(n, ka)\n",
    "    y_n = spherical_yn(n, ka)\n",
    "    \n",
    "    # Calcular la función de Hankel\n",
    "    h_n_second = j_n - 1j * y_n\n",
    "    \n",
    "    return h_n_second"
   ]
  },
  {
   "cell_type": "markdown",
   "metadata": {
    "cell_id": "3c831881440640aca22effc8ae9e3d43",
    "deepnote_cell_type": "text-cell-h1",
    "formattedRanges": []
   },
   "source": [
    "# Polinomios de Legendre "
   ]
  },
  {
   "cell_type": "code",
   "execution_count": 2,
   "metadata": {
    "cell_id": "105dd560a7b74ad7bf4fde7fb0d92538",
    "deepnote_cell_type": "code",
    "execution_context_id": "da541422-f70c-41c5-825b-af145fdde8a9",
    "execution_millis": 0,
    "execution_start": 1730859686448,
    "source_hash": "eec74787"
   },
   "outputs": [],
   "source": [
    "from scipy.special import eval_legendre\n",
    "\n",
    "def legendre(n, z):\n",
    "    return eval_legendre(n, z)"
   ]
  },
  {
   "cell_type": "markdown",
   "metadata": {
    "cell_id": "530be78488e54583bc7dd86bbc717055",
    "deepnote_cell_type": "text-cell-h1",
    "formattedRanges": []
   },
   "source": [
    "#  ζn(ka) y Z0"
   ]
  },
  {
   "cell_type": "code",
   "execution_count": 3,
   "metadata": {
    "cell_id": "22483e75197b493cbc15402cc305c9be",
    "deepnote_cell_type": "code",
    "execution_context_id": "da541422-f70c-41c5-825b-af145fdde8a9",
    "execution_millis": 0,
    "execution_start": 1730859686516,
    "source_hash": "54521c56"
   },
   "outputs": [],
   "source": [
    "from math import pi\n",
    "\n",
    "def zeta(n,ka):\n",
    "    return hankel(n, ka)/(hankel(n-1, ka)-(n/(ka))*hankel(n, ka))\n",
    "\n",
    "def Z0(theta):\n",
    "    return 120*np.log(1/np.tan(theta/2))"
   ]
  },
  {
   "cell_type": "markdown",
   "metadata": {
    "cell_id": "67739af2ea084d5cb6cbe335f847b15d",
    "deepnote_cell_type": "text-cell-h1",
    "formattedRanges": []
   },
   "source": [
    "# Sumatoria"
   ]
  },
  {
   "cell_type": "code",
   "execution_count": 4,
   "metadata": {
    "cell_id": "78376b746e434cef8b2178587e67191f",
    "deepnote_cell_type": "code",
    "execution_context_id": "da541422-f70c-41c5-825b-af145fdde8a9",
    "execution_millis": 0,
    "execution_start": 1730859686568,
    "source_hash": "f2902d19"
   },
   "outputs": [],
   "source": [
    "def sumatoria(n,ka,theta):\n",
    "    sum = 0\n",
    "    for i in range(1,n+1):\n",
    "        sum += ((2*i+1)/(i*(i+1)))*(legendre(i,np.cos(theta))**2)*zeta(i,ka)\n",
    "    return sum\n"
   ]
  },
  {
   "cell_type": "markdown",
   "metadata": {
    "cell_id": "5994bbc632cc4324bc11c76ff6f03ebf",
    "deepnote_cell_type": "text-cell-h1",
    "formattedRanges": []
   },
   "source": [
    "# Zin"
   ]
  },
  {
   "cell_type": "code",
   "execution_count": 5,
   "metadata": {
    "cell_id": "e5bccb1f947447d9920287d5a3892c2f",
    "deepnote_cell_type": "code",
    "execution_context_id": "da541422-f70c-41c5-825b-af145fdde8a9",
    "execution_millis": 0,
    "execution_start": 1730859686620,
    "source_hash": "4a8aadc7"
   },
   "outputs": [],
   "source": [
    "import cmath\n",
    "\n",
    "def Zin_calc(theta,ka):\n",
    "    im = (120/Z0(theta))*sumatoria(100,ka,theta)\n",
    "    num = 1+1j*im\n",
    "    den = -1+1j*im\n",
    "    b_a = cmath.exp(-2*1j*ka)*(num/den)\n",
    "    Zin_= Z0(theta)*(1-b_a)/(1+b_a)\n",
    "    return Zin_"
   ]
  },
  {
   "cell_type": "markdown",
   "metadata": {
    "created_in_deepnote_cell": true,
    "deepnote_cell_type": "markdown"
   },
   "source": [
    "<a style='text-decoration:none;line-height:16px;display:flex;color:#5B5B62;padding:10px;justify-content:end;' href='https://deepnote.com?utm_source=created-in-deepnote-cell&projectId=fa7b67d1-c1f3-415f-b45f-6074dd7a8856' target=\"_blank\">\n",
    "<img alt='Created in deepnote.com' style='display:inline;max-height:16px;margin:0px;margin-right:7.5px;' src='data:image/svg+xml;base64,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' > </img>\n",
    "Created in <span style='font-weight:600;margin-left:4px;'>Deepnote</span></a>"
   ]
  }
 ],
 "metadata": {
  "deepnote_notebook_id": "028814366bea45fe8b9bb060acad660b",
  "kernelspec": {
   "display_name": "Python 3",
   "language": "python",
   "name": "python3"
  },
  "language_info": {
   "codemirror_mode": {
    "name": "ipython",
    "version": 3
   },
   "file_extension": ".py",
   "mimetype": "text/x-python",
   "name": "python",
   "nbconvert_exporter": "python",
   "pygments_lexer": "ipython3",
   "version": "3.12.4"
  }
 },
 "nbformat": 4,
 "nbformat_minor": 0
}
